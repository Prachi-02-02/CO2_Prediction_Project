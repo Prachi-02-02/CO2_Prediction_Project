{
 "cells": [
  {
   "cell_type": "code",
   "execution_count": 1,
   "id": "7593c04a-83c5-4424-9733-e683a4fdb389",
   "metadata": {},
   "outputs": [
    {
     "name": "stdout",
     "output_type": "stream",
     "text": [
      "Writing app_ui.py\n"
     ]
    }
   ],
   "source": [
    "%%writefile app_ui.py\n",
    "import streamlit as st\n",
    "import requests\n",
    "\n",
    "# Set up the Streamlit app\n",
    "st.title(\"🏡 House Price Prediction App\")\n",
    "st.write(\"Enter details below to predict the house price.\")\n",
    "\n",
    "# User input fields\n",
    "size = st.number_input(\"Enter House Size (sq ft)\", min_value=500, max_value=10000, step=50, value=2000)\n",
    "bedrooms = st.number_input(\"Number of Bedrooms\", min_value=1, max_value=10, step=1, value=3)\n",
    "\n",
    "# API URL (Make sure Flask is running)\n",
    "api_url = \"http://127.0.0.1:5000/predict\"\n",
    "\n",
    "# Predict button\n",
    "if st.button(\"Predict Price\"):\n",
    "    data = {\"Size (sq ft)\": [size], \"Bedrooms\": [bedrooms]}  # Prepare data for API\n",
    "    response = requests.post(api_url, json=data)  # Send request to API\n",
    "\n",
    "    # Handle response\n",
    "    if response.status_code == 200:\n",
    "        price = response.json()[\"Predicted Price ($)\"]\n",
    "        st.success(f\"🏠 Estimated House Price: **${round(price[0], 2)}**\")\n",
    "    else:\n",
    "        st.error(\"Error: Could not get prediction. Make sure the API is running.\")\n"
   ]
  },
  {
   "cell_type": "code",
   "execution_count": null,
   "id": "d2a4e1d9-22c1-49e6-890a-600ed229155f",
   "metadata": {},
   "outputs": [],
   "source": []
  }
 ],
 "metadata": {
  "kernelspec": {
   "display_name": "Python 3 (ipykernel)",
   "language": "python",
   "name": "python3"
  },
  "language_info": {
   "codemirror_mode": {
    "name": "ipython",
    "version": 3
   },
   "file_extension": ".py",
   "mimetype": "text/x-python",
   "name": "python",
   "nbconvert_exporter": "python",
   "pygments_lexer": "ipython3",
   "version": "3.10.11"
  }
 },
 "nbformat": 4,
 "nbformat_minor": 5
}
